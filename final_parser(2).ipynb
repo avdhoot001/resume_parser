{
  "nbformat": 4,
  "nbformat_minor": 0,
  "metadata": {
    "colab": {
      "provenance": []
    },
    "kernelspec": {
      "name": "python3",
      "display_name": "Python 3"
    },
    "language_info": {
      "name": "python"
    }
  },
  "cells": [
    {
      "cell_type": "markdown",
      "source": [
        "\n",
        "\n",
        "#install required libraries, models, dependancies\n",
        "\n"
      ],
      "metadata": {
        "id": "kS8Wzr_8J4Vo"
      }
    },
    {
      "cell_type": "code",
      "source": [
        "!pip install -q -U google-generativeai\n",
        "!pip install patool\n",
        "!pip install PyMuPDF\n",
        "!pip install python-docx\n",
        "!pip install pytesseract\n",
        "!pip install Pillow\n",
        "\n",
        "import pytesseract\n",
        "!apt-get install tesseract-ocr\n",
        "pytesseract.pytesseract.tesseract_cmd = '/usr/bin/tesseract'\n",
        "\n",
        "import pathlib\n",
        "import textwrap\n",
        "import json\n",
        "import google.generativeai as genai\n",
        "\n",
        "from IPython.display import display\n",
        "from IPython.display import Markdown\n",
        "\n",
        "\n",
        "def to_markdown(text):\n",
        "  text = text.replace('•', '  *')\n",
        "  return Markdown(textwrap.indent(text, '> ', predicate=lambda _: True))\n",
        "\n",
        "model = genai.GenerativeModel('gemini-1.5-flash')"
      ],
      "metadata": {
        "colab": {
          "base_uri": "https://localhost:8080/"
        },
        "id": "y8eYwI_mJyAr",
        "outputId": "1007ca81-6c42-4a7c-84e3-c2b75682d6ff"
      },
      "execution_count": 32,
      "outputs": [
        {
          "output_type": "stream",
          "name": "stdout",
          "text": [
            "Requirement already satisfied: patool in /usr/local/lib/python3.10/dist-packages (2.2.0)\n",
            "Requirement already satisfied: PyMuPDF in /usr/local/lib/python3.10/dist-packages (1.24.5)\n",
            "Requirement already satisfied: PyMuPDFb==1.24.3 in /usr/local/lib/python3.10/dist-packages (from PyMuPDF) (1.24.3)\n",
            "Requirement already satisfied: python-docx in /usr/local/lib/python3.10/dist-packages (1.1.2)\n",
            "Requirement already satisfied: lxml>=3.1.0 in /usr/local/lib/python3.10/dist-packages (from python-docx) (4.9.4)\n",
            "Requirement already satisfied: typing-extensions>=4.9.0 in /usr/local/lib/python3.10/dist-packages (from python-docx) (4.12.1)\n",
            "Requirement already satisfied: pytesseract in /usr/local/lib/python3.10/dist-packages (0.3.10)\n",
            "Requirement already satisfied: packaging>=21.3 in /usr/local/lib/python3.10/dist-packages (from pytesseract) (24.0)\n",
            "Requirement already satisfied: Pillow>=8.0.0 in /usr/local/lib/python3.10/dist-packages (from pytesseract) (9.4.0)\n",
            "Requirement already satisfied: Pillow in /usr/local/lib/python3.10/dist-packages (9.4.0)\n",
            "Reading package lists... Done\n",
            "Building dependency tree... Done\n",
            "Reading state information... Done\n",
            "tesseract-ocr is already the newest version (4.1.1-2.1build1).\n",
            "0 upgraded, 0 newly installed, 0 to remove and 45 not upgraded.\n"
          ]
        }
      ]
    },
    {
      "cell_type": "markdown",
      "source": [
        "#you can import data from your local machine through a zip file from here\n"
      ],
      "metadata": {
        "id": "xccONXdBD57Z"
      }
    },
    {
      "cell_type": "code",
      "execution_count": null,
      "metadata": {
        "colab": {
          "base_uri": "https://localhost:8080/",
          "height": 73
        },
        "id": "OdXTe5j7BLvA",
        "outputId": "14160ba9-ddf8-4b63-a086-31b84e54e4c4"
      },
      "outputs": [
        {
          "output_type": "display_data",
          "data": {
            "text/plain": [
              "<IPython.core.display.HTML object>"
            ],
            "text/html": [
              "\n",
              "     <input type=\"file\" id=\"files-d5bb9dc7-500f-4d98-868b-7948aa4e5620\" name=\"files[]\" multiple disabled\n",
              "        style=\"border:none\" />\n",
              "     <output id=\"result-d5bb9dc7-500f-4d98-868b-7948aa4e5620\">\n",
              "      Upload widget is only available when the cell has been executed in the\n",
              "      current browser session. Please rerun this cell to enable.\n",
              "      </output>\n",
              "      <script>// Copyright 2017 Google LLC\n",
              "//\n",
              "// Licensed under the Apache License, Version 2.0 (the \"License\");\n",
              "// you may not use this file except in compliance with the License.\n",
              "// You may obtain a copy of the License at\n",
              "//\n",
              "//      http://www.apache.org/licenses/LICENSE-2.0\n",
              "//\n",
              "// Unless required by applicable law or agreed to in writing, software\n",
              "// distributed under the License is distributed on an \"AS IS\" BASIS,\n",
              "// WITHOUT WARRANTIES OR CONDITIONS OF ANY KIND, either express or implied.\n",
              "// See the License for the specific language governing permissions and\n",
              "// limitations under the License.\n",
              "\n",
              "/**\n",
              " * @fileoverview Helpers for google.colab Python module.\n",
              " */\n",
              "(function(scope) {\n",
              "function span(text, styleAttributes = {}) {\n",
              "  const element = document.createElement('span');\n",
              "  element.textContent = text;\n",
              "  for (const key of Object.keys(styleAttributes)) {\n",
              "    element.style[key] = styleAttributes[key];\n",
              "  }\n",
              "  return element;\n",
              "}\n",
              "\n",
              "// Max number of bytes which will be uploaded at a time.\n",
              "const MAX_PAYLOAD_SIZE = 100 * 1024;\n",
              "\n",
              "function _uploadFiles(inputId, outputId) {\n",
              "  const steps = uploadFilesStep(inputId, outputId);\n",
              "  const outputElement = document.getElementById(outputId);\n",
              "  // Cache steps on the outputElement to make it available for the next call\n",
              "  // to uploadFilesContinue from Python.\n",
              "  outputElement.steps = steps;\n",
              "\n",
              "  return _uploadFilesContinue(outputId);\n",
              "}\n",
              "\n",
              "// This is roughly an async generator (not supported in the browser yet),\n",
              "// where there are multiple asynchronous steps and the Python side is going\n",
              "// to poll for completion of each step.\n",
              "// This uses a Promise to block the python side on completion of each step,\n",
              "// then passes the result of the previous step as the input to the next step.\n",
              "function _uploadFilesContinue(outputId) {\n",
              "  const outputElement = document.getElementById(outputId);\n",
              "  const steps = outputElement.steps;\n",
              "\n",
              "  const next = steps.next(outputElement.lastPromiseValue);\n",
              "  return Promise.resolve(next.value.promise).then((value) => {\n",
              "    // Cache the last promise value to make it available to the next\n",
              "    // step of the generator.\n",
              "    outputElement.lastPromiseValue = value;\n",
              "    return next.value.response;\n",
              "  });\n",
              "}\n",
              "\n",
              "/**\n",
              " * Generator function which is called between each async step of the upload\n",
              " * process.\n",
              " * @param {string} inputId Element ID of the input file picker element.\n",
              " * @param {string} outputId Element ID of the output display.\n",
              " * @return {!Iterable<!Object>} Iterable of next steps.\n",
              " */\n",
              "function* uploadFilesStep(inputId, outputId) {\n",
              "  const inputElement = document.getElementById(inputId);\n",
              "  inputElement.disabled = false;\n",
              "\n",
              "  const outputElement = document.getElementById(outputId);\n",
              "  outputElement.innerHTML = '';\n",
              "\n",
              "  const pickedPromise = new Promise((resolve) => {\n",
              "    inputElement.addEventListener('change', (e) => {\n",
              "      resolve(e.target.files);\n",
              "    });\n",
              "  });\n",
              "\n",
              "  const cancel = document.createElement('button');\n",
              "  inputElement.parentElement.appendChild(cancel);\n",
              "  cancel.textContent = 'Cancel upload';\n",
              "  const cancelPromise = new Promise((resolve) => {\n",
              "    cancel.onclick = () => {\n",
              "      resolve(null);\n",
              "    };\n",
              "  });\n",
              "\n",
              "  // Wait for the user to pick the files.\n",
              "  const files = yield {\n",
              "    promise: Promise.race([pickedPromise, cancelPromise]),\n",
              "    response: {\n",
              "      action: 'starting',\n",
              "    }\n",
              "  };\n",
              "\n",
              "  cancel.remove();\n",
              "\n",
              "  // Disable the input element since further picks are not allowed.\n",
              "  inputElement.disabled = true;\n",
              "\n",
              "  if (!files) {\n",
              "    return {\n",
              "      response: {\n",
              "        action: 'complete',\n",
              "      }\n",
              "    };\n",
              "  }\n",
              "\n",
              "  for (const file of files) {\n",
              "    const li = document.createElement('li');\n",
              "    li.append(span(file.name, {fontWeight: 'bold'}));\n",
              "    li.append(span(\n",
              "        `(${file.type || 'n/a'}) - ${file.size} bytes, ` +\n",
              "        `last modified: ${\n",
              "            file.lastModifiedDate ? file.lastModifiedDate.toLocaleDateString() :\n",
              "                                    'n/a'} - `));\n",
              "    const percent = span('0% done');\n",
              "    li.appendChild(percent);\n",
              "\n",
              "    outputElement.appendChild(li);\n",
              "\n",
              "    const fileDataPromise = new Promise((resolve) => {\n",
              "      const reader = new FileReader();\n",
              "      reader.onload = (e) => {\n",
              "        resolve(e.target.result);\n",
              "      };\n",
              "      reader.readAsArrayBuffer(file);\n",
              "    });\n",
              "    // Wait for the data to be ready.\n",
              "    let fileData = yield {\n",
              "      promise: fileDataPromise,\n",
              "      response: {\n",
              "        action: 'continue',\n",
              "      }\n",
              "    };\n",
              "\n",
              "    // Use a chunked sending to avoid message size limits. See b/62115660.\n",
              "    let position = 0;\n",
              "    do {\n",
              "      const length = Math.min(fileData.byteLength - position, MAX_PAYLOAD_SIZE);\n",
              "      const chunk = new Uint8Array(fileData, position, length);\n",
              "      position += length;\n",
              "\n",
              "      const base64 = btoa(String.fromCharCode.apply(null, chunk));\n",
              "      yield {\n",
              "        response: {\n",
              "          action: 'append',\n",
              "          file: file.name,\n",
              "          data: base64,\n",
              "        },\n",
              "      };\n",
              "\n",
              "      let percentDone = fileData.byteLength === 0 ?\n",
              "          100 :\n",
              "          Math.round((position / fileData.byteLength) * 100);\n",
              "      percent.textContent = `${percentDone}% done`;\n",
              "\n",
              "    } while (position < fileData.byteLength);\n",
              "  }\n",
              "\n",
              "  // All done.\n",
              "  yield {\n",
              "    response: {\n",
              "      action: 'complete',\n",
              "    }\n",
              "  };\n",
              "}\n",
              "\n",
              "scope.google = scope.google || {};\n",
              "scope.google.colab = scope.google.colab || {};\n",
              "scope.google.colab._files = {\n",
              "  _uploadFiles,\n",
              "  _uploadFilesContinue,\n",
              "};\n",
              "})(self);\n",
              "</script> "
            ]
          },
          "metadata": {}
        },
        {
          "output_type": "stream",
          "name": "stdout",
          "text": [
            "Saving resume_data.zip to resume_data.zip\n"
          ]
        }
      ],
      "source": [
        "from google.colab import files\n",
        "uploading = files.upload()"
      ]
    },
    {
      "cell_type": "markdown",
      "source": [
        "#unzip the zip file"
      ],
      "metadata": {
        "id": "WXsIqWTVENB1"
      }
    },
    {
      "cell_type": "code",
      "source": [
        "import patoolib\n",
        "patoolib.extract_archive(\"/content/resume_data.zip\")"
      ],
      "metadata": {
        "colab": {
          "base_uri": "https://localhost:8080/",
          "height": 174
        },
        "id": "ZH8mpgUHEJ8u",
        "outputId": "bd96e6a8-3a11-4c7c-f3a5-393c4c20fd5d"
      },
      "execution_count": null,
      "outputs": [
        {
          "output_type": "stream",
          "name": "stderr",
          "text": [
            "INFO patool: Extracting /content/resume_data.zip ...\n",
            "INFO:patool:Extracting /content/resume_data.zip ...\n",
            "INFO patool: running /usr/bin/7z x -o./Unpack_3_sdos6u -- /content/resume_data.zip\n",
            "INFO:patool:running /usr/bin/7z x -o./Unpack_3_sdos6u -- /content/resume_data.zip\n",
            "INFO patool:     with input=''\n",
            "INFO:patool:    with input=''\n",
            "INFO patool: ... /content/resume_data.zip extracted to `data'.\n",
            "INFO:patool:... /content/resume_data.zip extracted to `data'.\n"
          ]
        },
        {
          "output_type": "execute_result",
          "data": {
            "text/plain": [
              "'data'"
            ],
            "application/vnd.google.colaboratory.intrinsic+json": {
              "type": "string"
            }
          },
          "metadata": {},
          "execution_count": 7
        }
      ]
    },
    {
      "cell_type": "markdown",
      "source": [
        "#obtain the gemini api key from google ai.google.dev website"
      ],
      "metadata": {
        "id": "g6MvozvBEY9r"
      }
    },
    {
      "cell_type": "code",
      "source": [
        "genai.configure(api_key=\"\")"
      ],
      "metadata": {
        "id": "FfRp7Ie0Cfd4"
      },
      "execution_count": 11,
      "outputs": []
    },
    {
      "cell_type": "markdown",
      "source": [
        "#get response"
      ],
      "metadata": {
        "id": "Fvud8QYgEw6f"
      }
    },
    {
      "cell_type": "code",
      "source": [
        "import os\n",
        "import re\n",
        "import fitz  # PyMuPDF\n",
        "import docx\n",
        "from PIL import Image\n",
        "import pytesseract\n",
        "from difflib import SequenceMatcher\n",
        "\n",
        "def convert_image_to_text(image_path):\n",
        "    \"\"\"Convert image to text using Tesseract OCR.\"\"\"\n",
        "    image = Image.open(image_path)\n",
        "    text = pytesseract.image_to_string(image)\n",
        "    return text\n",
        "\n",
        "def convert_pdf_to_text(pdf_path):\n",
        "    \"\"\"Convert PDF to text using PyMuPDF and Tesseract OCR for images.\"\"\"\n",
        "    pdf_document = fitz.open(pdf_path)\n",
        "    text = \"\"\n",
        "\n",
        "    for page_num in range(len(pdf_document)):\n",
        "        page = pdf_document.load_page(page_num)\n",
        "        # Try to extract text using PyMuPDF\n",
        "        page_text = page.get_text()\n",
        "        if page_text.strip():\n",
        "            text += page_text\n",
        "        else:\n",
        "            # Fall back to OCR if text extraction fails\n",
        "            pix = page.get_pixmap()\n",
        "            img = Image.frombytes(\"RGB\", [pix.width, pix.height], pix.samples)\n",
        "            page_text = pytesseract.image_to_string(img)\n",
        "            text += page_text\n",
        "\n",
        "    return text\n",
        "\n",
        "def convert_docx_to_text(docx_path):\n",
        "    \"\"\"Convert DOCX to text using python-docx.\"\"\"\n",
        "    doc = docx.Document(docx_path)\n",
        "    text = \"\\n\".join(paragraph.text for paragraph in doc.paragraphs)\n",
        "    return text\n",
        "\n",
        "\n",
        "\n",
        "def extract_details_from_text(text):\n",
        "    prompt = (\n",
        "        f\"Please extract the following details from the given resume text in json format:\\n\\n\"\n",
        "        f\"{text}\\n\\n\"\n",
        "        \"\"\"\n",
        "        remember keep all the dates in dd/mm/yyyy format, give only one primary contact number, also tell only the city and state in location:\\n\n",
        "        Format your response exactly as follows:\\n\n",
        "        {\n",
        "          \"name\": \"\",\n",
        "          \"mobileNumber\": \"\",\n",
        "          \"emailId\": \"\",\n",
        "          \"dob\": \"\",\n",
        "          \"summary\": \"\",\n",
        "          \"location\": \"\",\n",
        "          \"skills\": [],\n",
        "          \"education\": [\n",
        "            {\n",
        "              \"education\": \"\",\n",
        "              \"instituteName\": \"\",\n",
        "              \"courseName\": \"\",\n",
        "              \"startYear\": \"\",\n",
        "              \"endYear\": \"\"\n",
        "            }\n",
        "          ],\n",
        "          \"experience\": [\n",
        "            {\n",
        "              \"companyName\": \"\",\n",
        "              \"jobTitle\": \"\",\n",
        "              \"startDate\": \"\",\n",
        "              \"endDate\": \"\"\n",
        "            }\n",
        "          ]\n",
        "        }\n",
        "        print every key or entry of json on new line, keep it readable\n",
        "        \"\"\"\n",
        "\n",
        "    )\n",
        "    response = model.generate_content(prompt)\n",
        "    return response\n",
        "\n",
        "def process_resume_file(file_path):\n",
        "\n",
        "    filename = os.path.basename(file_path)\n",
        "\n",
        "    if filename.endswith('.pdf'):\n",
        "        resume_text = convert_pdf_to_text(file_path)\n",
        "    elif filename.endswith('.docx'):\n",
        "        resume_text = convert_docx_to_text(file_path)\n",
        "    elif filename.lower().endswith(('.png', '.jpg', '.jpeg')):\n",
        "        resume_text = convert_image_to_text(file_path)\n",
        "    else:\n",
        "        print(f\"Unsupported file format: {filename}\")\n",
        "\n",
        "    resume_details = extract_details_from_text(resume_text)\n",
        "    # to_markdown(resume_details.text)\n",
        "    print(resume_details.text)\n",
        "\n",
        "\n",
        "# Open a file in write mode\n",
        "    with open('output.json', 'w') as json_file:\n",
        "        # Write the data to the JSON file\n",
        "        json.dump(resume_details.text, json_file)\n",
        "    # print(resume_details.text)\n",
        "        # \"Using this json schema:\\n\"\n",
        "\n"
      ],
      "metadata": {
        "id": "AbVBvOqnBVFD"
      },
      "execution_count": 40,
      "outputs": []
    },
    {
      "cell_type": "markdown",
      "source": [
        "#submit the path to your resume file here\n",
        "##json data will be printed as well as output.json file will be created"
      ],
      "metadata": {
        "id": "g90-lyICE17g"
      }
    },
    {
      "cell_type": "code",
      "source": [
        "# Example usage\n",
        "file_path = '/content/new_data/_resume..CV..neuu.docx'\n",
        "process_resume_file(file_path)"
      ],
      "metadata": {
        "colab": {
          "base_uri": "https://localhost:8080/",
          "height": 1000
        },
        "id": "aifkeHP8CC0M",
        "outputId": "9ed2ec21-4a0e-4fde-8f45-9c4c154c72bf"
      },
      "execution_count": 41,
      "outputs": [
        {
          "output_type": "stream",
          "name": "stdout",
          "text": [
            "{\n",
            "  \"name\": \"Ms. Sanchi Suryasen Jadhav\",\n",
            "  \"mobileNumber\": \"8356820997\",\n",
            "  \"emailId\": \"sanchijadhav898@gmail.com\",\n",
            "  \"dob\": \"16/10/1999\",\n",
            "  \"summary\": \"I will always try to use my skills honestly, devotion towards my punctuality etc.\\nI will discuss my idealogy with my superiors.\",\n",
            "  \"location\": \"Mumbai, Maharashtra\",\n",
            "  \"skills\": [\n",
            "    \"Cooking\",\n",
            "    \"Baking\",\n",
            "    \"Dancing\"\n",
            "  ],\n",
            "  \"education\": [\n",
            "    {\n",
            "      \"education\": \"S.S.C\",\n",
            "      \"instituteName\": \"St. Joseph's Convent High School\",\n",
            "      \"courseName\": \"\",\n",
            "      \"startYear\": \"\",\n",
            "      \"endYear\": \"\"\n",
            "    },\n",
            "    {\n",
            "      \"education\": \"H.S.C\",\n",
            "      \"instituteName\": \"Siddharth College of Arts and Commerce Anand Bhavan\",\n",
            "      \"courseName\": \"\",\n",
            "      \"startYear\": \"\",\n",
            "      \"endYear\": \"\"\n",
            "    },\n",
            "    {\n",
            "      \"education\": \"B.Sc in Hospitality Studies\",\n",
            "      \"instituteName\": \"G.D. Ambekar Pratishthan College of Hotel Management\",\n",
            "      \"courseName\": \"\",\n",
            "      \"startYear\": \"\",\n",
            "      \"endYear\": \"\"\n",
            "    }\n",
            "  ],\n",
            "  \"experience\": [\n",
            "    {\n",
            "      \"companyName\": \"Sahara Star Hotel\",\n",
            "      \"jobTitle\": \"Internship\",\n",
            "      \"startDate\": \"\",\n",
            "      \"endDate\": \"\"\n",
            "    },\n",
            "    {\n",
            "      \"companyName\": \"Gelato Store\",\n",
            "      \"jobTitle\": \"\",\n",
            "      \"startDate\": \"\",\n",
            "      \"endDate\": \"\"\n",
            "    },\n",
            "    {\n",
            "      \"companyName\": \"IHOP restaurant\",\n",
            "      \"jobTitle\": \"Commi 3\",\n",
            "      \"startDate\": \"\",\n",
            "      \"endDate\": \"\"\n",
            "    }\n",
            "  ]\n",
            "}\n",
            "\n"
          ]
        }
      ]
    },
    {
      "cell_type": "markdown",
      "source": [
        "#give the path to your folder to process multiple resumes\n",
        "###api issues may occur"
      ],
      "metadata": {
        "id": "2ptnKowWXThe"
      }
    },
    {
      "cell_type": "code",
      "source": [
        "def process_resume_folder(folder_path):\n",
        "    \"\"\"Process all resumes in various formats in a folder.\"\"\"\n",
        "    for filename in os.listdir(folder_path):\n",
        "        file_path = os.path.join(folder_path, filename)\n",
        "        if filename.endswith('.pdf'):\n",
        "            resume_text = convert_pdf_to_text(file_path)\n",
        "        elif filename.endswith('.docx'):\n",
        "            resume_text = convert_docx_to_text(file_path)\n",
        "        elif filename.lower().endswith(('.png', '.jpg', '.jpeg')):\n",
        "            resume_text = convert_image_to_text(file_path)\n",
        "        else:\n",
        "            print(f\"Unsupported file format: {filename}\")\n",
        "            continue\n",
        "\n",
        "        resume_details = extract_details_from_text(resume_text)\n",
        "        to_markdown(resume_details.text)\n",
        "        print(resume_details.text)\n",
        "\n",
        "\n",
        "# Example usage\n",
        "folder_path = '/content/new_data'\n",
        "process_resume_folder(folder_path)"
      ],
      "metadata": {
        "id": "-_Nwa--LdiHT"
      },
      "execution_count": null,
      "outputs": []
    }
  ]
}